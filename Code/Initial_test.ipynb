{
 "cells": [
  {
   "cell_type": "code",
   "execution_count": 18,
   "metadata": {},
   "outputs": [
    {
     "name": "stdout",
     "output_type": "stream",
     "text": [
      "D:\\Lotus Labs Work\\Anamoly Detection POC\\Pallet Alignment\\Images\n"
     ]
    }
   ],
   "source": [
    "import os\n",
    " \n",
    "os.chdir('D:\\Lotus Labs Work\\Anamoly Detection POC\\Pallet Alignment\\Images')\n",
    "print(os.getcwd())\n",
    " \n",
    "for count, f in enumerate(os.listdir()):\n",
    "    f_name = os.path.splitext(f)\n",
    "    f_name = str(count)\n",
    "    f_ext=\".jpg\"\n",
    "    \n",
    "    new_name = f'{f_name}{f_ext}'\n",
    "    os.rename(f, new_name)"
   ]
  },
  {
   "cell_type": "code",
   "execution_count": null,
   "metadata": {},
   "outputs": [],
   "source": [
    "import cv2 as cv\n",
    "from math import atan2, cos, sin, sqrt, pi\n",
    "import numpy as np\n",
    " \n",
    "# Load the image\n",
    "img = cv.imread(r\"C:\\Users\\saira\\Downloads\\boxes.jpeg\")\n",
    " \n",
    "# Was the image there?\n",
    "if img is None:\n",
    "  print(\"Error: File not found\")\n",
    "  exit(0)\n",
    " \n",
    "cv.imshow('Input Image', img)\n",
    " \n",
    "# Convert image to grayscale\n",
    "gray = cv.cvtColor(img, cv.COLOR_BGR2GRAY)\n",
    " \n",
    "# Convert image to binary\n",
    "_, bw = cv.threshold(gray, 50, 255, cv.THRESH_BINARY | cv.THRESH_OTSU)\n",
    "#bw=cv.Canny(gray, 30, 200)\n",
    "# Find all the contours in the thresholded image\n",
    "contours, _ = cv.findContours(bw, cv.RETR_LIST, cv.CHAIN_APPROX_NONE)\n",
    " \n",
    "for i, c in enumerate(contours):\n",
    " \n",
    "  # Calculate the area of each contour\n",
    "  area = cv.contourArea(c)\n",
    " \n",
    "  # Ignore contours that are too small or too large\n",
    "  if area < 3700 or 100000 < area:\n",
    "    continue\n",
    " \n",
    "  # cv.minAreaRect returns:\n",
    "  # (center(x, y), (width, height), angle of rotation) = cv2.minAreaRect(c)\n",
    "  rect = cv.minAreaRect(c)\n",
    "  box = cv.boxPoints(rect)\n",
    "  box = np.int0(box)\n",
    " \n",
    "  # Retrieve the key parameters of the rotated bounding box\n",
    "  center = (int(rect[0][0]),int(rect[0][1])) \n",
    "  width = int(rect[1][0])\n",
    "  height = int(rect[1][1])\n",
    "  angle = int(rect[2])\n",
    " \n",
    "     \n",
    "  if width < height:\n",
    "    angle = 90 - angle\n",
    "  else:\n",
    "    angle = -angle\n",
    "         \n",
    "  label = \"  Rotation Angle: \" + str(angle) + \" degrees\"\n",
    "  textbox = cv.rectangle(img, (center[0]-35, center[1]-25), \n",
    "    (center[0] + 295, center[1] + 10), (255,255,255), -1)\n",
    "  cv.putText(img, label, (center[0]-50, center[1]), \n",
    "    cv.FONT_HERSHEY_SIMPLEX, 0.3, (0,0,0), 1, cv.LINE_AA)\n",
    "  cv.drawContours(img,[box],0,(0,0,255),2)\n",
    " \n",
    "cv.imshow('Output Image', img)\n",
    "cv.waitKey(0)\n",
    "cv.destroyAllWindows()\n",
    "  \n",
    "# Save the output image to the current directory\n",
    "#cv.imwrite(\"min_area_rec_output.jpg\", img)"
   ]
  },
  {
   "cell_type": "code",
   "execution_count": 1,
   "metadata": {},
   "outputs": [],
   "source": [
    "a=[1,2,3,4,5]\n",
    "b=enumerate(a)"
   ]
  },
  {
   "cell_type": "code",
   "execution_count": 9,
   "metadata": {},
   "outputs": [],
   "source": [
    "# Python code to find the co-ordinates of\n",
    "# the contours detected in an image.\n",
    "import numpy as np\n",
    "import cv2\n",
    "\n",
    "# Reading image\n",
    "font = cv2.FONT_HERSHEY_COMPLEX\n",
    "img2 = cv2.imread(r\"D:\\Lotus Labs Work\\Anamoly Detection POC\\Images\\5.jpg\", cv2.IMREAD_COLOR)\n",
    "\n",
    "# Reading same image in another\n",
    "# variable and converting to gray scale.\n",
    "img = cv2.imread('test.jpg', cv2.IMREAD_GRAYSCALE)\n",
    "\n",
    "# Converting image to a binary image\n",
    "# ( black and white only image).\n",
    "_, threshold = cv2.threshold(img, 110, 255, cv2.THRESH_BINARY)\n",
    "\n",
    "# Detecting contours in image.\n",
    "contours, _= cv2.findContours(threshold, cv2.RETR_TREE,\n",
    "\t\t\t\t\t\t\tcv2.CHAIN_APPROX_SIMPLE)\n",
    "\n",
    "# Going through every contours found in the image.\n",
    "for cnt in contours :\n",
    "\n",
    "\tapprox = cv2.approxPolyDP(cnt, 0.009 * cv2.arcLength(cnt, True), True)\n",
    "\n",
    "\t# draws boundary of contours.\n",
    "\tcv2.drawContours(img2, [approx], 0, (0, 0, 255), 5)\n",
    "\n",
    "\t# Used to flatted the array containing\n",
    "\t# the co-ordinates of the vertices.\n",
    "\tn = approx.ravel()\n",
    "\ti = 0\n",
    "\n",
    "\tfor j in n :\n",
    "\t\tif(i % 2 == 0):\n",
    "\t\t\tx = n[i]\n",
    "\t\t\ty = n[i + 1]\n",
    "\n",
    "\t\t\t# String containing the co-ordinates.\n",
    "\t\t\tstring = str(x) + \" \" + str(y)\n",
    "\n",
    "\t\t\tif(i == 0):\n",
    "\t\t\t\t# text on topmost co-ordinate.\n",
    "\t\t\t\tcv2.putText(img2, \"Arrow tip\", (x, y),\n",
    "\t\t\t\t\t\t\t\tfont, 0.5, (255, 0, 0))\n",
    "\t\t\telse:\n",
    "\t\t\t\t# text on remaining co-ordinates.\n",
    "\t\t\t\tcv2.putText(img2, string, (x, y),\n",
    "\t\t\t\t\t\tfont, 0.5, (0, 255, 0))\n",
    "\t\ti = i + 1\n",
    "\n",
    "# Showing the final image.\n",
    "cv2.imshow('image2', img2)\n",
    "cv2.waitKey(0)\n",
    "cv2.destroyAllWindows()\n"
   ]
  },
  {
   "cell_type": "code",
   "execution_count": 12,
   "metadata": {},
   "outputs": [],
   "source": [
    "import cv2\n",
    "image=cv2.imread(r\"D:\\Lotus Labs Work\\Anamoly Detection POC\\Images\\5.jpg\")\n"
   ]
  },
  {
   "cell_type": "code",
   "execution_count": 13,
   "metadata": {},
   "outputs": [],
   "source": [
    "cv2.imshow('stackedbox',image)\n",
    "cv2.waitKey(0)\n",
    "cv2.destroyAllWindows()"
   ]
  },
  {
   "cell_type": "code",
   "execution_count": 14,
   "metadata": {},
   "outputs": [],
   "source": [
    "gray=cv2.cvtColor(image,cv2.COLOR_BGR2GRAY)"
   ]
  },
  {
   "cell_type": "code",
   "execution_count": 15,
   "metadata": {},
   "outputs": [
    {
     "name": "stdout",
     "output_type": "stream",
     "text": [
      "Number of Contours found = 39\n"
     ]
    }
   ],
   "source": [
    "import cv2\n",
    "import numpy as np\n",
    "\n",
    "# Let's load a simple image with 3 black squares\n",
    "image = cv2.imread(r\"D:\\Lotus Labs Work\\Anamoly Detection POC\\Images\\5.jpg\")\n",
    "cv2.imshow('Input Image', image)\n",
    "cv2.waitKey(0)\n",
    "\n",
    "# Grayscale\n",
    "gray = cv2.cvtColor(image,cv2.COLOR_BGR2GRAY)\n",
    "\n",
    "# Find Canny edges\n",
    "edged = cv2.Canny(gray, 30, 200)\n",
    "cv2.imshow('Canny Edges', edged)\n",
    "cv2.waitKey(0)\n",
    "\n",
    "# Finding Contours\n",
    "# Use a copy of your image e.g. edged.copy(), since findContours alters the image\n",
    "contours, hierarchy = cv2.findContours(edged, cv2.RETR_EXTERNAL, cv2.CHAIN_APPROX_NONE)\n",
    "cv2.imshow('Canny Edges After Contouring', edged)\n",
    "cv2.waitKey(0)\n",
    "\n",
    "print(\"Number of Contours found = \" + str(len(contours)))\n",
    "\n",
    "# Draw all contours\n",
    "# Use '-1' as the 3rd parameter to draw all\n",
    "cv2.drawContours(image, contours, -1, (0,255,0), thickness = 2)\n",
    "\n",
    "cv2.imshow('Contours', image)\n",
    "cv2.waitKey(0)\n",
    "cv2.destroyAllWindows()"
   ]
  },
  {
   "cell_type": "code",
   "execution_count": 16,
   "metadata": {},
   "outputs": [],
   "source": [
    "font = cv2.FONT_HERSHEY_COMPLEX\n",
    "for cnt in contours :\n",
    "\n",
    "\tapprox = cv2.approxPolyDP(cnt, 0.009 * cv2.arcLength(cnt, True), True)\n",
    "\n",
    "\t# draws boundary of contours.\n",
    "\tcv2.drawContours(image, [approx], 0, (0, 0, 255), 5)\n",
    "\n",
    "\t# Used to flatted the array containing\n",
    "\t# the co-ordinates of the vertices.\n",
    "\tn = approx.ravel()\n",
    "\ti = 0\n",
    "\n",
    "\tfor j in n :\n",
    "\t\tif(i % 2 == 0):\n",
    "\t\t\tx = n[i]\n",
    "\t\t\ty = n[i + 1]\n",
    "\n",
    "\t\t\t# String containing the co-ordinates.\n",
    "\t\t\tstring = str(x) + \" \" + str(y)\n",
    "\n",
    "\t\t\tif(i == 0):\n",
    "\t\t\t\t# text on topmost co-ordinate.\n",
    "\t\t\t\tcv2.putText(image, \"Arrow tip\", (x, y),\n",
    "\t\t\t\t\t\t\t\tfont, 0.5, (255, 0, 0))\n",
    "\t\t\telse:\n",
    "\t\t\t\t# text on remaining co-ordinates.\n",
    "\t\t\t\tcv2.putText(image, string, (x, y),\n",
    "\t\t\t\t\t\tfont, 0.5, (0, 255, 0))\n",
    "\t\ti = i + 1\n",
    "\n",
    "# Showing the final image.\n",
    "cv2.imshow('image2', image)\n",
    "cv2.waitKey(0)\n",
    "cv2.destroyAllWindows()"
   ]
  },
  {
   "cell_type": "code",
   "execution_count": 4,
   "metadata": {},
   "outputs": [],
   "source": [
    "def lineq(a,b,c,d):\n",
    "    m=(d-b)/(c-a)\n",
    "    lineq=\"m\"+\"x\"+\"-y\"\n",
    "    return lineq"
   ]
  },
  {
   "cell_type": "code",
   "execution_count": null,
   "metadata": {},
   "outputs": [],
   "source": [
    "lineq()"
   ]
  },
  {
   "cell_type": "code",
   "execution_count": 7,
   "metadata": {},
   "outputs": [],
   "source": [
    "import math\n",
    "import cv2\n",
    "\n",
    "path=r\"D:\\Lotus Labs Work\\Anamoly Detection POC\\Images\\5.jpg\"\n",
    "img=cv2.imread(path)\n",
    "pointslist=[]"
   ]
  },
  {
   "cell_type": "code",
   "execution_count": 22,
   "metadata": {},
   "outputs": [],
   "source": [
    "def mousePoints(event,x,y,flags,params):\n",
    "    if event==cv2.EVENT_LBUTTONDOWN:\n",
    "        size=len(pointslist)\n",
    "        if size!=0 and size%3!=0:\n",
    "            cv2.line(img,tuple(pointslist[round((size-1)/3)*3]),(x,y),(0,0,255),2)\n",
    "        cv2.circle(img,(x,y),5,(0,0,255),cv2.FILLED)\n",
    "        pointslist.append([x,y])\n",
    "\n",
    "def gradient(pt1,pt2):\n",
    "    return (pt2[1]-pt1[1])/(pt2[0]-pt1[0])\n",
    "\n",
    "def getangle(pointslist):\n",
    "    pt1,pt2,pt3=pointslist[-3:]\n",
    "    m1=gradient(pt1,pt2)\n",
    "    m2=gradient(pt1,pt3)\n",
    "    angR = math.atan((m2-m1)/(1+(m2*m1)))\n",
    "    angD = round(math.degrees(angR))\n",
    "\n",
    "    cv2.putText(img,str(angD),(pt1[0]-40,pt1[1]-20),cv2.FONT_HERSHEY_COMPLEX,1.5,(0,0,255),2)"
   ]
  },
  {
   "cell_type": "code",
   "execution_count": 23,
   "metadata": {},
   "outputs": [],
   "source": [
    "while True:\n",
    "    if len(pointslist)%3==0 and len(pointslist)!=0:\n",
    "        getangle(pointslist)\n",
    "\n",
    "    cv2.imshow('Image',img)\n",
    "    cv2.setMouseCallback('Image',mousePoints)\n",
    "    if cv2.waitKey(1) & 0xFF == ord('q'):\n",
    "        pointslist=[]\n",
    "        img=cv2.imread(path)\n",
    "    if cv2.waitKey(1) & 0xFF == ord('x'):\n",
    "        break\n",
    "cv2.destroyAllWindows()"
   ]
  },
  {
   "cell_type": "code",
   "execution_count": null,
   "metadata": {},
   "outputs": [],
   "source": [
    "# importing the module\n",
    "import cv2\n",
    "pointlist=[]\n",
    "# function to display the coordinates of\n",
    "# of the points clicked on the image\n",
    "def click_event(event, x, y, flags, params):\n",
    "\n",
    "\t# checking for left mouse clicks\n",
    "\tif event == cv2.EVENT_LBUTTONDOWN:\n",
    "\n",
    "\t\t# displaying the coordinates\n",
    "\t\t# on the Shell\n",
    "\t\tprint(x, ' ', y)\n",
    "\t\tpointlist.append([x,y])\n",
    "\t\t# displaying the coordinates\n",
    "\t\t# on the image window\n",
    "\t\tfont = cv2.FONT_HERSHEY_SIMPLEX\n",
    "\t\tcv2.putText(img, str(x) + ',' +\n",
    "\t\t\t\t\tstr(y), (x,y), font,\n",
    "\t\t\t\t\t1, (255, 0, 0), 2)\n",
    "\t\tcv2.imshow('image', img)\n",
    "\n",
    "\t# checking for right mouse clicks\t\n",
    "\tif event==cv2.EVENT_RBUTTONDOWN:\n",
    "\n",
    "\t\t# displaying the coordinates\n",
    "\t\t# on the Shell\n",
    "\t\tprint(x, ' ', y)\n",
    "\n",
    "\t\t# displaying the coordinates\n",
    "\t\t# on the image window\n",
    "\t\tfont = cv2.FONT_HERSHEY_SIMPLEX\n",
    "\t\tb = img[y, x, 0]\n",
    "\t\tg = img[y, x, 1]\n",
    "\t\tr = img[y, x, 2]\n",
    "\t\tcv2.putText(img, str(b) + ',' +\n",
    "\t\t\t\t\tstr(g) + ',' + str(r),\n",
    "\t\t\t\t\t(x,y), font, 1,\n",
    "\t\t\t\t\t(255, 255, 0), 2)\n",
    "\t\tcv2.imshow('image', img)\n",
    "\n",
    "# driver function\n",
    "if __name__==\"__main__\":\n",
    "\n",
    "\t# reading the image\n",
    "\timg = cv2.imread('lena.jpg', 1)\n",
    "\n",
    "\t# displaying the image\n",
    "\tcv2.imshow('image', img)\n",
    "\n",
    "\t# setting mouse handler for the image\n",
    "\t# and calling the click_event() function\n",
    "\tcv2.setMouseCallback('image', click_event)\n",
    "\n",
    "\t# wait for a key to be pressed to exit\n",
    "\tcv2.waitKey(0)\n",
    "\n",
    "\t# close the window\n",
    "\tcv2.destroyAllWindows()\n"
   ]
  },
  {
   "cell_type": "code",
   "execution_count": 29,
   "metadata": {},
   "outputs": [],
   "source": [
    "import math\n",
    "import cv2\n",
    "\n",
    "path=r\"D:\\Lotus Labs Work\\Anamoly Detection POC\\Images\\5.jpg\"\n",
    "img=cv2.imread(path)\n",
    "pointlist=[]\n",
    "def getpoints(event,x,y,flags,params):\n",
    "     if event==cv2.EVENT_LBUTTONDOWN:\n",
    "        pointlist.append([x,y])\n",
    "        font=cv2.FONT_HERSHEY_SIMPLEX\n",
    "        cv2.circle(img,(x,y),5,(0,0,255),cv2.FILLED)\n",
    "        cv2.putText(img, str(x) + ',' +\n",
    "\t\t\t\t\tstr(y), (x,y), font,\n",
    "\t\t\t\t\t1, (255, 0, 0), 2)\n",
    " \n",
    "def xdiff(pointlist):\n",
    "    pt1,pt2=pointlist[-2:]\n",
    "    xdiffer=abs(pt2[0]-pt1[0])\n",
    "    cv2.putText(img,str(xdiffer),(pt1[0]-40,pt1[1]-20),cv2.FONT_HERSHEY_COMPLEX,1.5,(0,0,255),2)\n",
    "    \n",
    "while True:\n",
    "    if len(pointlist)%2==0 and len(pointlist)!=0:\n",
    "        xdiff(pointlist)\n",
    "    cv2.imshow('Image',img)\n",
    "    cv2.setMouseCallback('Image',getpoints)\n",
    "    if cv2.waitKey(1) & 0xFF == ord('q'):\n",
    "        pointlist=[]\n",
    "        img=cv2.imread(path)\n",
    "    if cv2.waitKey(1) & 0xFF == ord('x'):\n",
    "        break\n",
    "cv2.destroyAllWindows()"
   ]
  },
  {
   "cell_type": "code",
   "execution_count": 35,
   "metadata": {},
   "outputs": [
    {
     "data": {
      "text/plain": [
       "1"
      ]
     },
     "execution_count": 35,
     "metadata": {},
     "output_type": "execute_result"
    }
   ],
   "source": [
    "pointlist=[[2,4],[3,5]]\n",
    "def xdiff(pointlist):\n",
    "    pt1,pt2=pointlist[-2:]\n",
    "    xdiffer=abs(pt2[0]-pt1[0])\n",
    "    return xdiffer\n",
    "\n",
    "xdiff(pointlist)"
   ]
  },
  {
   "cell_type": "code",
   "execution_count": 15,
   "metadata": {},
   "outputs": [],
   "source": [
    "k=[]\n"
   ]
  },
  {
   "cell_type": "code",
   "execution_count": 30,
   "metadata": {},
   "outputs": [
    {
     "data": {
      "text/plain": [
       "[1, 2, 0]"
      ]
     },
     "execution_count": 30,
     "metadata": {},
     "output_type": "execute_result"
    }
   ],
   "source": [
    "a=[2,0,1]\n",
    "b=[]\n",
    "c=[0]*len(a)\n",
    "for i in range(len(a)):\n",
    "    for j in range(len(a)):\n",
    "        if i==a[j]:\n",
    "            b.append(j)\n",
    "\n",
    "for i in range(len(a)):\n",
    "    c[b[i]]=a[i]\n",
    "\n",
    "c \n",
    "\n",
    "\n",
    "\n"
   ]
  },
  {
   "cell_type": "code",
   "execution_count": 70,
   "metadata": {},
   "outputs": [
    {
     "data": {
      "text/plain": [
       "(-2, -2, [-2, 4, 8, 9])"
      ]
     },
     "execution_count": 70,
     "metadata": {},
     "output_type": "execute_result"
    }
   ],
   "source": [
    "A=[-2,4,8,9]\n",
    "B=0\n",
    "l=[]\n",
    "# g=[]\n",
    "for i in A:\n",
    "    x=i-B\n",
    "    l.append(x)\n",
    "\n",
    "\n",
    "\n",
    "# for i in range(len(l)):\n",
    "#     if l[i]<=0:      \n",
    "#         if l[i]>i1 :\n",
    "#             i1=i\n",
    "# for j in range(len(l)):\n",
    "#     if l[j]>=0:\n",
    "#         if l[j]<i2 :\n",
    "#             i2=j \n",
    "\n",
    "# i1,i2,l\n",
    "         \n"
   ]
  },
  {
   "cell_type": "code",
   "execution_count": 93,
   "metadata": {},
   "outputs": [
    {
     "name": "stdout",
     "output_type": "stream",
     "text": [
      "NO\n",
      "YES\n"
     ]
    }
   ],
   "source": [
    "n=int(input())\n",
    "cnt=0\n",
    "for i in range(n):\n",
    "    k=int(input())\n",
    "    for j in range(1,k):\n",
    "         if k%j==0:\n",
    "            cnt=cnt+j\n",
    "    if cnt==k:\n",
    "        print('YES')\n",
    "    else:\n",
    "        print('NO')\n",
    "    cnt=0"
   ]
  }
 ],
 "metadata": {
  "kernelspec": {
   "display_name": "Python 3.9.0 64-bit",
   "language": "python",
   "name": "python3"
  },
  "language_info": {
   "codemirror_mode": {
    "name": "ipython",
    "version": 3
   },
   "file_extension": ".py",
   "mimetype": "text/x-python",
   "name": "python",
   "nbconvert_exporter": "python",
   "pygments_lexer": "ipython3",
   "version": "3.9.0"
  },
  "orig_nbformat": 4,
  "vscode": {
   "interpreter": {
    "hash": "540c31e3c6e69c862d82fa5161a105014835cdc23564856d41aa187606f7a1c9"
   }
  }
 },
 "nbformat": 4,
 "nbformat_minor": 2
}
