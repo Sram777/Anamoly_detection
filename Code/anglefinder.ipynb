{
 "cells": [
  {
   "cell_type": "code",
   "execution_count": 2,
   "metadata": {},
   "outputs": [],
   "source": [
    "import math\n",
    "import cv2\n",
    "\n",
    "path=r\"D:\\Lotus Labs Work\\Anamoly Detection POC\\Pallet Alignment\\Images\\0.jpg\"\n",
    "img=cv2.imread(path)\n",
    "pointslist=[]\n",
    "def mousePoints(event,x,y,flags,params):\n",
    "    if event==cv2.EVENT_LBUTTONDOWN:\n",
    "        size=len(pointslist)\n",
    "        if size!=0 and size%3!=0:\n",
    "            cv2.line(img,tuple(pointslist[round((size-1)/3)*3]),(x,y),(0,0,255),2)\n",
    "        cv2.circle(img,(x,y),5,(0,0,255),cv2.FILLED)\n",
    "        pointslist.append([x,y])\n",
    "\n",
    "def gradient(pt1,pt2):\n",
    "    return (pt2[1]-pt1[1])/(pt2[0]-pt1[0])\n",
    "\n",
    "def getangle(pointslist):\n",
    "    pt1,pt2,pt3=pointslist[-3:]\n",
    "    m1=gradient(pt1,pt2)\n",
    "    m2=gradient(pt1,pt3)\n",
    "    angR = math.atan((m2-m1)/(1+(m2*m1)))\n",
    "    angD = round(math.degrees(angR))\n",
    "\n",
    "    cv2.putText(img,str(angD),(pt1[0]-40,pt1[1]-20),cv2.FONT_HERSHEY_COMPLEX,1.5,(0,0,255),2)\n",
    "while True:\n",
    "    if len(pointslist)%3==0 and len(pointslist)!=0:\n",
    "        getangle(pointslist)\n",
    "\n",
    "    cv2.imshow('Image',img)\n",
    "    cv2.setMouseCallback('Image',mousePoints)\n",
    "    if cv2.waitKey(1) & 0xFF == ord('q'):\n",
    "        pointslist=[]\n",
    "        img=cv2.imread(path)\n",
    "    if cv2.waitKey(1) & 0xFF == ord('x'):\n",
    "        break\n",
    "cv2.destroyAllWindows()"
   ]
  }
 ],
 "metadata": {
  "kernelspec": {
   "display_name": "Python 3.9.0 64-bit",
   "language": "python",
   "name": "python3"
  },
  "language_info": {
   "codemirror_mode": {
    "name": "ipython",
    "version": 3
   },
   "file_extension": ".py",
   "mimetype": "text/x-python",
   "name": "python",
   "nbconvert_exporter": "python",
   "pygments_lexer": "ipython3",
   "version": "3.9.0 (tags/v3.9.0:9cf6752, Oct  5 2020, 15:34:40) [MSC v.1927 64 bit (AMD64)]"
  },
  "orig_nbformat": 4,
  "vscode": {
   "interpreter": {
    "hash": "540c31e3c6e69c862d82fa5161a105014835cdc23564856d41aa187606f7a1c9"
   }
  }
 },
 "nbformat": 4,
 "nbformat_minor": 2
}
